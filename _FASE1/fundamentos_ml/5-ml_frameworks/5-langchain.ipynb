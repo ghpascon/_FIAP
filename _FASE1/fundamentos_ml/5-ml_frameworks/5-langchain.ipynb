{
 "cells": [
  {
   "cell_type": "markdown",
   "metadata": {},
   "source": [
    "# BAIXAR O OLLAMA\n",
    "\n",
    "## https://ollama.com/download"
   ]
  },
  {
   "cell_type": "code",
   "execution_count": 1,
   "metadata": {},
   "outputs": [
    {
     "name": "stderr",
     "output_type": "stream",
     "text": [
      "c:\\Users\\Usuario\\AppData\\Local\\Programs\\Python\\Python39\\lib\\site-packages\\langchain_community\\llms\\__init__.py:412: LangChainDeprecationWarning: As of langchain-core 0.3.0, LangChain uses pydantic v2 internally. The langchain_core.pydantic_v1 module was a compatibility shim for pydantic v1, and should no longer be used. Please update the code to import from Pydantic directly.\n",
      "\n",
      "For example, replace imports like: `from langchain_core.pydantic_v1 import BaseModel`\n",
      "with: `from pydantic import BaseModel`\n",
      "or the v1 compatibility namespace if you are working in a code base that has not been fully upgraded to pydantic 2 yet. \tfrom pydantic.v1 import BaseModel\n",
      "\n",
      "  from langchain_community.llms.ollama import Ollama\n"
     ]
    }
   ],
   "source": [
    "from langchain_community.llms import Ollama\n",
    "from langchain.callbacks.manager import CallbackManager\n",
    "from langchain.callbacks.streaming_stdout import StreamingStdOutCallbackHandler\n"
   ]
  },
  {
   "cell_type": "code",
   "execution_count": 5,
   "metadata": {},
   "outputs": [],
   "source": [
    "\n",
    "\n",
    "llm = Ollama(\n",
    "    model=\"gemma:2b\",\n",
    "    num_gpu=0,\n",
    "    callback_manager=CallbackManager([StreamingStdOutCallbackHandler()])\n",
    ")\n"
   ]
  },
  {
   "cell_type": "code",
   "execution_count": 7,
   "metadata": {},
   "outputs": [
    {
     "name": "stdout",
     "output_type": "stream",
     "text": [
      "**Beber não Case** é um filme brasileiro de 2002 dirigido por Antônio Campos e starring Vinicio Colar, Amanda Quezada, Wagner Moura e Mariana Drummond. O filme é uma história sobre um grupo de amigos que se junta para celebrar a vida de um amigo que morreu.\n",
      "\n",
      "**Sinopse:**\n",
      "\n",
      "O filme é um sucesso de box office, com um público de mais de 24 milhões de espectadores. O filme foi bem recebido pela crítica, com elogios para a direção, a atuação e a cinematografia.\n",
      "\n",
      "**Prêmios:**\n",
      "\n",
      "* Prêmios Cinema Ouro de 2003\n",
      "* Prêmios MTV de 2003\n",
      "* Prêmios Fofis 2003\n",
      "\n",
      "**Atividade de Cinema:**\n",
      "\n",
      "* O filme foi exibido em mais de 150 cinemas no Brasil.\n",
      "* O filme foi lançado em DVD pela Universal em 2004.\n",
      "* O filme foi relançado em 2010 pela Warner Bros.Resposta: **Beber não Case** é um filme brasileiro de 2002 dirigido por Antônio Campos e starring Vinicio Colar, Amanda Quezada, Wagner Moura e Mariana Drummond. O filme é uma história sobre um grupo de amigos que se junta para celebrar a vida de um amigo que morreu.\n",
      "\n",
      "**Sinopse:**\n",
      "\n",
      "O filme é um sucesso de box office, com um público de mais de 24 milhões de espectadores. O filme foi bem recebido pela crítica, com elogios para a direção, a atuação e a cinematografia.\n",
      "\n",
      "**Prêmios:**\n",
      "\n",
      "* Prêmios Cinema Ouro de 2003\n",
      "* Prêmios MTV de 2003\n",
      "* Prêmios Fofis 2003\n",
      "\n",
      "**Atividade de Cinema:**\n",
      "\n",
      "* O filme foi exibido em mais de 150 cinemas no Brasil.\n",
      "* O filme foi lançado em DVD pela Universal em 2004.\n",
      "* O filme foi relançado em 2010 pela Warner Bros.\n"
     ]
    }
   ],
   "source": [
    "\n",
    "def gerar_insights_sobre_filmes(pergunta):\n",
    "    prompt = f\"Responda a seguinte pergunta sobre filmes: {pergunta}\\n\"\n",
    "    prompt += \"Por favor, forneça um resumo detalhado e quaisquer informações relevantes.\"\n",
    "\n",
    "    insights = llm.invoke(prompt)\n",
    "    return insights\n",
    "\n",
    "def responder_pergunta(pergunta):\n",
    "    resposta = gerar_insights_sobre_filmes(pergunta)\n",
    "    return resposta\n",
    "\n",
    "def main():\n",
    "    pergunta = \"Se Beber não Case\"\n",
    "    resposta = responder_pergunta(pergunta)\n",
    "    print(f\"Resposta: {resposta}\")\n",
    "\n",
    "if __name__ == \"__main__\":\n",
    "    main()"
   ]
  },
  {
   "cell_type": "code",
   "execution_count": null,
   "metadata": {},
   "outputs": [],
   "source": []
  }
 ],
 "metadata": {
  "kernelspec": {
   "display_name": "Python 3",
   "language": "python",
   "name": "python3"
  },
  "language_info": {
   "codemirror_mode": {
    "name": "ipython",
    "version": 3
   },
   "file_extension": ".py",
   "mimetype": "text/x-python",
   "name": "python",
   "nbconvert_exporter": "python",
   "pygments_lexer": "ipython3",
   "version": "3.9.0"
  }
 },
 "nbformat": 4,
 "nbformat_minor": 2
}
