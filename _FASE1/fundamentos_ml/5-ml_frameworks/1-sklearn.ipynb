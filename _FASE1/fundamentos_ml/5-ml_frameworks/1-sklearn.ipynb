{
 "cells": [
  {
   "cell_type": "code",
   "execution_count": 1,
   "metadata": {},
   "outputs": [
    {
     "name": "stdout",
     "output_type": "stream",
     "text": [
      "Root Mean Squared Error: 5.173176276283056\n",
      "         Data    Real   Predito\n",
      "83 2024-06-18  446.34  447.4512\n",
      "53 2024-05-06  413.54  409.4576\n",
      "70 2024-05-30  414.67  426.0848\n",
      "45 2024-04-24  409.06  399.9966\n",
      "44 2024-04-23  407.57  400.7464\n"
     ]
    }
   ],
   "source": [
    "import pandas as pd\n",
    "from sklearn.model_selection import train_test_split\n",
    "from sklearn.ensemble import RandomForestRegressor\n",
    "from sklearn.metrics import mean_squared_error\n",
    "import numpy as np\n",
    "\n",
    "# Carregando os dados a partir de um arquivo JSON\n",
    "df = pd.read_json('data.json')\n",
    "\n",
    "# Convertendo a coluna de data para o tipo datetime\n",
    "df['data'] = pd.to_datetime(df['data'])\n",
    "\n",
    "# Extraindo recursos (features) e o alvo (target)\n",
    "df['data_ordinal'] = df['data'].map(pd.Timestamp.toordinal)\n",
    "X = df[['data_ordinal']]\n",
    "y = df['preco_fechamento']\n",
    "\n",
    "# Dividindo os dados em conjuntos de treinamento e teste\n",
    "X_train, X_test, y_train, y_test = train_test_split(X, y, test_size=0.2, random_state=42)\n",
    "\n",
    "# Treinando o modelo RandomForestRegressor\n",
    "model = RandomForestRegressor(n_estimators=100, random_state=42)\n",
    "model.fit(X_train, y_train)\n",
    "\n",
    "# Fazendo previsões\n",
    "y_pred = model.predict(X_test)\n",
    "\n",
    "# Avaliando o modelo\n",
    "mse = mean_squared_error(y_test, y_pred)\n",
    "rmse = np.sqrt(mse)\n",
    "\n",
    "print(f\"Root Mean Squared Error: {rmse}\")\n",
    "\n",
    "# Exibindo algumas previsões\n",
    "predictions = pd.DataFrame({'Data': X_test['data_ordinal'].map(lambda x: pd.Timestamp.fromordinal(x)), 'Real': y_test, 'Predito': y_pred})\n",
    "print(predictions.head())"
   ]
  }
 ],
 "metadata": {
  "kernelspec": {
   "display_name": "Python 3",
   "language": "python",
   "name": "python3"
  },
  "language_info": {
   "codemirror_mode": {
    "name": "ipython",
    "version": 3
   },
   "file_extension": ".py",
   "mimetype": "text/x-python",
   "name": "python",
   "nbconvert_exporter": "python",
   "pygments_lexer": "ipython3",
   "version": "3.9.0"
  }
 },
 "nbformat": 4,
 "nbformat_minor": 2
}
