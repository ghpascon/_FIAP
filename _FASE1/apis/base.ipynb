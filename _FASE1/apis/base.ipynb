{
 "cells": [
  {
   "cell_type": "markdown",
   "metadata": {},
   "source": [
    "# Apis no ML são utilizadas para transformar o modelo em um produto e fazer integrações entre os sistemas, isolando o código final"
   ]
  },
  {
   "cell_type": "markdown",
   "metadata": {},
   "source": [
    "# Tipos"
   ]
  },
  {
   "cell_type": "markdown",
   "metadata": {},
   "source": [
    "## *API REST"
   ]
  },
  {
   "cell_type": "markdown",
   "metadata": {},
   "source": [
    "- HTTP\n",
    "- GET, POST, PUT, DELETE\n",
    "- Stateless\n",
    "- CACHE"
   ]
  },
  {
   "cell_type": "markdown",
   "metadata": {},
   "source": [
    "API RESTFUL é a api que segue os protocolos REST"
   ]
  },
  {
   "cell_type": "markdown",
   "metadata": {},
   "source": [
    "## API SOAP"
   ]
  },
  {
   "cell_type": "markdown",
   "metadata": {},
   "source": [
    "- XML\n",
    "- WSDL"
   ]
  },
  {
   "cell_type": "markdown",
   "metadata": {},
   "source": [
    "## GRAPHQL"
   ]
  },
  {
   "cell_type": "markdown",
   "metadata": {},
   "source": [
    "- Cliente define exatamente o que quer receber\n",
    "- Evita over-fetching e under-fetching\n",
    "- Multiplas fontes de dados e maior flexibilidade"
   ]
  },
  {
   "cell_type": "markdown",
   "metadata": {},
   "source": [
    "## gRPC"
   ]
  },
  {
   "cell_type": "markdown",
   "metadata": {},
   "source": [
    "- HTTP2 E PROTOBUF"
   ]
  },
  {
   "cell_type": "markdown",
   "metadata": {},
   "source": [
    "## WEBSOCKETS"
   ]
  },
  {
   "cell_type": "markdown",
   "metadata": {},
   "source": [
    "- Conexão bidirecional em tempo real\n",
    "- Envia e recebe dados sem abrir novas requisições\n",
    "- Não segue o padrão rest"
   ]
  },
  {
   "cell_type": "markdown",
   "metadata": {},
   "source": []
  },
  {
   "cell_type": "markdown",
   "metadata": {},
   "source": [
    "# Boas Práticas"
   ]
  },
  {
   "cell_type": "markdown",
   "metadata": {},
   "source": [
    "- Código limpo e organizado\n",
    "- Testes unitários\n",
    "- Manter a lógica separada da rota\n",
    "- Evita tudo em um unico arquivo\n",
    "- Usar um venv\n",
    "- Lidar com excecções e erros\n",
    "- Garantir retornos consistentes"
   ]
  },
  {
   "cell_type": "markdown",
   "metadata": {},
   "source": [
    "# Autenticação e Autorização"
   ]
  },
  {
   "cell_type": "markdown",
   "metadata": {},
   "source": [
    "- Verifica identidade por meio de tokens, chavesde api ou credenciais\n",
    "- Define o provilégio dos usuários autenticados"
   ]
  },
  {
   "cell_type": "markdown",
   "metadata": {},
   "source": [
    "# Documentação "
   ]
  },
  {
   "cell_type": "markdown",
   "metadata": {},
   "source": [
    "- Swagger"
   ]
  },
  {
   "cell_type": "markdown",
   "metadata": {},
   "source": [
    "# Frameworks"
   ]
  },
  {
   "cell_type": "markdown",
   "metadata": {},
   "source": [
    "- *Fast API\n",
    "- Flask\n",
    "- Django"
   ]
  },
  {
   "cell_type": "markdown",
   "metadata": {},
   "source": [
    "# Segurança"
   ]
  },
  {
   "cell_type": "markdown",
   "metadata": {},
   "source": [
    "- tokens\n",
    "- autenticação\n",
    "- criptografia\n",
    "- firewalls\n",
    "- Regulamentos"
   ]
  },
  {
   "cell_type": "markdown",
   "metadata": {},
   "source": []
  }
 ],
 "metadata": {
  "language_info": {
   "name": "python"
  }
 },
 "nbformat": 4,
 "nbformat_minor": 2
}
